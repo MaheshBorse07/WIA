{
 "cells": [
  {
   "cell_type": "code",
   "execution_count": 49,
   "id": "510cef85",
   "metadata": {},
   "outputs": [],
   "source": [
    "import pandas as pd\n",
    "import numpy as np\n",
    "import scipy\n",
    "import math"
   ]
  },
  {
   "cell_type": "code",
   "execution_count": 1,
   "id": "1bd073fd",
   "metadata": {},
   "outputs": [],
   "source": [
    "def GoalSeek(fun,goal,x0,fTol=0.0001,MaxIter=1000):\n",
    "    # Goal Seek function of Excel\n",
    "    #   via use of Line Search and Bisection Methods\n",
    "\n",
    "    # Inputs\n",
    "    #   fun     : Function to be evaluated\n",
    "    #   goal    : Expected result/output\n",
    "    #   x0      : Initial estimate/Starting point\n",
    "\n",
    "    # Initial check\n",
    "    if fun(x0)==goal:\n",
    "        print('Exact solution found')\n",
    "        return x0\n",
    "\n",
    "    # Line Search Method\n",
    "    step_sizes=np.logspace(-1,4,6)\n",
    "    scopes=np.logspace(1,5,5)\n",
    "\n",
    "    vFun=np.vectorize(fun)\n",
    "\n",
    "    for scope in scopes:\n",
    "        break_nested=False\n",
    "        for step_size in step_sizes:\n",
    "\n",
    "            cApos=np.linspace(x0,x0+step_size*scope,int(scope))\n",
    "            cAneg=np.linspace(x0,x0-step_size*scope,int(scope))\n",
    "\n",
    "            cA=np.concatenate((cAneg[::-1],cApos[1:]),axis=0)\n",
    "\n",
    "            fA=vFun(cA)-goal\n",
    "\n",
    "            if np.any(np.diff(np.sign(fA))):\n",
    "\n",
    "                index_lb=np.nonzero(np.diff(np.sign(fA)))\n",
    "\n",
    "                if len(index_lb[0])==1:\n",
    "\n",
    "                    index_ub=index_lb+np.array([1])\n",
    "\n",
    "                    x_lb=np.asscalar(np.array(cA)[index_lb][0])\n",
    "                    x_ub=np.asscalar(np.array(cA)[index_ub][0])\n",
    "                    break_nested=True\n",
    "                    break\n",
    "                else: # Two or more roots possible\n",
    "\n",
    "                    index_ub=index_lb+np.array([1])\n",
    "\n",
    "                    print('Other solution possible at around, x0 = ', np.array(cA)[index_lb[0][1]])\n",
    "\n",
    "                    x_lb=np.asscalar(np.array(cA)[index_lb[0][0]])\n",
    "                    x_ub=np.asscalar(np.array(cA)[index_ub[0][0]])\n",
    "                    break_nested=True\n",
    "                    break\n",
    "\n",
    "        if break_nested:\n",
    "            break\n",
    "    if not x_lb or not x_ub:\n",
    "        print('No Solution Found')\n",
    "        return\n",
    "\n",
    "    # Bisection Method\n",
    "    iter_num=0\n",
    "    error=10\n",
    "\n",
    "    while iter_num<MaxIter and fTol<error:\n",
    "        \n",
    "        x_m=(x_lb+x_ub)/2\n",
    "        f_m=fun(x_m)-goal\n",
    "\n",
    "        error=abs(f_m)\n",
    "\n",
    "        if (fun(x_lb)-goal)*(f_m)<0:\n",
    "            x_ub=x_m\n",
    "        elif (fun(x_ub)-goal)*(f_m)<0:\n",
    "            x_lb=x_m\n",
    "        elif f_m==0:\n",
    "            print('Exact spolution found')\n",
    "            return x_m\n",
    "        else:\n",
    "            print('Failure in Bisection Method')\n",
    "        \n",
    "        iter_num+=1\n",
    "\n",
    "    return x_m"
   ]
  },
  {
   "cell_type": "code",
   "execution_count": 50,
   "id": "dbeab19f",
   "metadata": {},
   "outputs": [],
   "source": [
    "f_h=5\n",
    "dis_rate=11.96\n",
    "cur_net_inc=383270.00\n",
    "lp_cf = 100\n",
    "cur_cash_flow = (cur_net_inc + (lp_cf/100))\n",
    "ter_gro_rate = 6.00\n",
    "int_gro_rate = 18.2252750\n",
    "cur_share_price = 3064.90\n",
    "no_share = 3659.05"
   ]
  },
  {
   "cell_type": "code",
   "execution_count": 51,
   "id": "fe3c6e00",
   "metadata": {},
   "outputs": [
    {
     "name": "stdout",
     "output_type": "stream",
     "text": [
      "[383271.0, 453123.19, 535706.14, 633340.06, 748768.03, 885233.06]\n"
     ]
    }
   ],
   "source": [
    "fut_cas_flow = [cur_cash_flow,]\n",
    "cas_flow = (cur_cash_flow * (1+(int_gro_rate/100)))\n",
    "fut_cas_flow.append(round(cas_flow,2))\n",
    "\n",
    "for i in range(1,f_h):\n",
    "    cas_flow1=(fut_cas_flow[-1] * (1+(int_gro_rate/100)) )\n",
    "    fut_cas_flow.append(round(cas_flow1,2))\n",
    "print(fut_cas_flow)"
   ]
  },
  {
   "cell_type": "code",
   "execution_count": 60,
   "id": "7329f122",
   "metadata": {
    "scrolled": false
   },
   "outputs": [
    {
     "ename": "TypeError",
     "evalue": "unsupported operand type(s) for ** or pow(): 'float' and 'list'",
     "output_type": "error",
     "traceback": [
      "\u001b[1;31m---------------------------------------------------------------------------\u001b[0m",
      "\u001b[1;31mTypeError\u001b[0m                                 Traceback (most recent call last)",
      "Input \u001b[1;32mIn [60]\u001b[0m, in \u001b[0;36m<cell line: 5>\u001b[1;34m()\u001b[0m\n\u001b[0;32m      3\u001b[0m df[\u001b[38;5;124m\"\u001b[39m\u001b[38;5;124mfut_cas_flow\u001b[39m\u001b[38;5;124m\"\u001b[39m]\u001b[38;5;241m=\u001b[39m fut_cas_flow\n\u001b[0;32m      4\u001b[0m k\u001b[38;5;241m=\u001b[39m[y \u001b[38;5;28;01mfor\u001b[39;00m y \u001b[38;5;129;01min\u001b[39;00m \u001b[38;5;28mrange\u001b[39m(\u001b[38;5;241m0\u001b[39m,(f_h\u001b[38;5;241m+\u001b[39m\u001b[38;5;241m1\u001b[39m))]\n\u001b[1;32m----> 5\u001b[0m df[\u001b[38;5;124m'\u001b[39m\u001b[38;5;124mpv_fut_cf\u001b[39m\u001b[38;5;124m'\u001b[39m]\u001b[38;5;241m=\u001b[39m [((i)\u001b[38;5;241m/\u001b[39m\u001b[38;5;28mpow\u001b[39m((\u001b[38;5;241m1\u001b[39m\u001b[38;5;241m+\u001b[39m(dis_rate\u001b[38;5;241m/\u001b[39m\u001b[38;5;241m100\u001b[39m)),k)) \u001b[38;5;28;01mfor\u001b[39;00m i \u001b[38;5;129;01min\u001b[39;00m (df[\u001b[38;5;124m'\u001b[39m\u001b[38;5;124mfut_cas_flow\u001b[39m\u001b[38;5;124m'\u001b[39m])]\n",
      "Input \u001b[1;32mIn [60]\u001b[0m, in \u001b[0;36m<listcomp>\u001b[1;34m(.0)\u001b[0m\n\u001b[0;32m      3\u001b[0m df[\u001b[38;5;124m\"\u001b[39m\u001b[38;5;124mfut_cas_flow\u001b[39m\u001b[38;5;124m\"\u001b[39m]\u001b[38;5;241m=\u001b[39m fut_cas_flow\n\u001b[0;32m      4\u001b[0m k\u001b[38;5;241m=\u001b[39m[y \u001b[38;5;28;01mfor\u001b[39;00m y \u001b[38;5;129;01min\u001b[39;00m \u001b[38;5;28mrange\u001b[39m(\u001b[38;5;241m0\u001b[39m,(f_h\u001b[38;5;241m+\u001b[39m\u001b[38;5;241m1\u001b[39m))]\n\u001b[1;32m----> 5\u001b[0m df[\u001b[38;5;124m'\u001b[39m\u001b[38;5;124mpv_fut_cf\u001b[39m\u001b[38;5;124m'\u001b[39m]\u001b[38;5;241m=\u001b[39m [((i)\u001b[38;5;241m/\u001b[39m\u001b[38;5;28;43mpow\u001b[39;49m\u001b[43m(\u001b[49m\u001b[43m(\u001b[49m\u001b[38;5;241;43m1\u001b[39;49m\u001b[38;5;241;43m+\u001b[39;49m\u001b[43m(\u001b[49m\u001b[43mdis_rate\u001b[49m\u001b[38;5;241;43m/\u001b[39;49m\u001b[38;5;241;43m100\u001b[39;49m\u001b[43m)\u001b[49m\u001b[43m)\u001b[49m\u001b[43m,\u001b[49m\u001b[43mk\u001b[49m\u001b[43m)\u001b[49m) \u001b[38;5;28;01mfor\u001b[39;00m i \u001b[38;5;129;01min\u001b[39;00m (df[\u001b[38;5;124m'\u001b[39m\u001b[38;5;124mfut_cas_flow\u001b[39m\u001b[38;5;124m'\u001b[39m])]\n",
      "\u001b[1;31mTypeError\u001b[0m: unsupported operand type(s) for ** or pow(): 'float' and 'list'"
     ]
    }
   ],
   "source": [
    "df=pd.DataFrame()\n",
    "df['year']=np.arange(0,(f_h+1))\n",
    "df[\"fut_cas_flow\"]= fut_cas_flow\n",
    "k=[y for y in range(0,(f_h+1))]\n",
    "df['pv_fut_cf']= [((i)/pow((1+(dis_rate/100)),k)) for i in (df['fut_cas_flow'])]"
   ]
  },
  {
   "cell_type": "code",
   "execution_count": 59,
   "id": "7411801f",
   "metadata": {},
   "outputs": [
    {
     "ename": "TypeError",
     "evalue": "unsupported operand type(s) for ** or pow(): 'float' and 'list'",
     "output_type": "error",
     "traceback": [
      "\u001b[1;31m---------------------------------------------------------------------------\u001b[0m",
      "\u001b[1;31mTypeError\u001b[0m                                 Traceback (most recent call last)",
      "Input \u001b[1;32mIn [59]\u001b[0m, in \u001b[0;36m<cell line: 1>\u001b[1;34m()\u001b[0m\n\u001b[1;32m----> 1\u001b[0m [((i)\u001b[38;5;241m/\u001b[39m\u001b[38;5;28mpow\u001b[39m((\u001b[38;5;241m1\u001b[39m\u001b[38;5;241m+\u001b[39m(dis_rate\u001b[38;5;241m/\u001b[39m\u001b[38;5;241m100\u001b[39m)),k)) \u001b[38;5;28;01mfor\u001b[39;00m i \u001b[38;5;129;01min\u001b[39;00m (df[\u001b[38;5;124m'\u001b[39m\u001b[38;5;124mfut_cas_flow\u001b[39m\u001b[38;5;124m'\u001b[39m])]\n",
      "Input \u001b[1;32mIn [59]\u001b[0m, in \u001b[0;36m<listcomp>\u001b[1;34m(.0)\u001b[0m\n\u001b[1;32m----> 1\u001b[0m [((i)\u001b[38;5;241m/\u001b[39m\u001b[38;5;28;43mpow\u001b[39;49m\u001b[43m(\u001b[49m\u001b[43m(\u001b[49m\u001b[38;5;241;43m1\u001b[39;49m\u001b[38;5;241;43m+\u001b[39;49m\u001b[43m(\u001b[49m\u001b[43mdis_rate\u001b[49m\u001b[38;5;241;43m/\u001b[39;49m\u001b[38;5;241;43m100\u001b[39;49m\u001b[43m)\u001b[49m\u001b[43m)\u001b[49m\u001b[43m,\u001b[49m\u001b[43mk\u001b[49m\u001b[43m)\u001b[49m) \u001b[38;5;28;01mfor\u001b[39;00m i \u001b[38;5;129;01min\u001b[39;00m (df[\u001b[38;5;124m'\u001b[39m\u001b[38;5;124mfut_cas_flow\u001b[39m\u001b[38;5;124m'\u001b[39m])]\n",
      "\u001b[1;31mTypeError\u001b[0m: unsupported operand type(s) for ** or pow(): 'float' and 'list'"
     ]
    }
   ],
   "source": [
    "[((i)/pow((1+(dis_rate/100)),k)) for i in (df['fut_cas_flow'])]"
   ]
  },
  {
   "cell_type": "code",
   "execution_count": 34,
   "id": "c65ced7d",
   "metadata": {},
   "outputs": [
    {
     "data": {
      "text/html": [
       "<div>\n",
       "<style scoped>\n",
       "    .dataframe tbody tr th:only-of-type {\n",
       "        vertical-align: middle;\n",
       "    }\n",
       "\n",
       "    .dataframe tbody tr th {\n",
       "        vertical-align: top;\n",
       "    }\n",
       "\n",
       "    .dataframe thead th {\n",
       "        text-align: right;\n",
       "    }\n",
       "</style>\n",
       "<table border=\"1\" class=\"dataframe\">\n",
       "  <thead>\n",
       "    <tr style=\"text-align: right;\">\n",
       "      <th></th>\n",
       "      <th>year</th>\n",
       "      <th>fut_cas_flow</th>\n",
       "      <th>pv_fut_cf</th>\n",
       "    </tr>\n",
       "  </thead>\n",
       "  <tbody>\n",
       "    <tr>\n",
       "      <th>0</th>\n",
       "      <td>0</td>\n",
       "      <td>383271.00</td>\n",
       "      <td>8.931761e-01</td>\n",
       "    </tr>\n",
       "    <tr>\n",
       "      <th>1</th>\n",
       "      <td>1</td>\n",
       "      <td>453141.30</td>\n",
       "      <td>4.047350e+05</td>\n",
       "    </tr>\n",
       "    <tr>\n",
       "      <th>2</th>\n",
       "      <td>2</td>\n",
       "      <td>535748.96</td>\n",
       "      <td>2.563656e+11</td>\n",
       "    </tr>\n",
       "    <tr>\n",
       "      <th>3</th>\n",
       "      <td>3</td>\n",
       "      <td>633416.00</td>\n",
       "      <td>2.269887e+17</td>\n",
       "    </tr>\n",
       "    <tr>\n",
       "      <th>4</th>\n",
       "      <td>4</td>\n",
       "      <td>748887.74</td>\n",
       "      <td>2.809338e+23</td>\n",
       "    </tr>\n",
       "    <tr>\n",
       "      <th>5</th>\n",
       "      <td>5</td>\n",
       "      <td>885409.98</td>\n",
       "      <td>4.860256e+29</td>\n",
       "    </tr>\n",
       "  </tbody>\n",
       "</table>\n",
       "</div>"
      ],
      "text/plain": [
       "   year  fut_cas_flow     pv_fut_cf\n",
       "0     0     383271.00  8.931761e-01\n",
       "1     1     453141.30  4.047350e+05\n",
       "2     2     535748.96  2.563656e+11\n",
       "3     3     633416.00  2.269887e+17\n",
       "4     4     748887.74  2.809338e+23\n",
       "5     5     885409.98  4.860256e+29"
      ]
     },
     "execution_count": 34,
     "metadata": {},
     "output_type": "execute_result"
    }
   ],
   "source": [
    "df"
   ]
  },
  {
   "cell_type": "code",
   "execution_count": 36,
   "id": "54ce24fb",
   "metadata": {},
   "outputs": [
    {
     "name": "stdout",
     "output_type": "stream",
     "text": [
      "<class 'pandas.core.frame.DataFrame'>\n",
      "RangeIndex: 6 entries, 0 to 5\n",
      "Data columns (total 2 columns):\n",
      " #   Column        Non-Null Count  Dtype  \n",
      "---  ------        --------------  -----  \n",
      " 0   year          6 non-null      int32  \n",
      " 1   fut_cas_flow  6 non-null      float64\n",
      "dtypes: float64(1), int32(1)\n",
      "memory usage: 200.0 bytes\n"
     ]
    }
   ],
   "source": [
    "df.info()"
   ]
  },
  {
   "cell_type": "code",
   "execution_count": null,
   "id": "c9401545",
   "metadata": {},
   "outputs": [],
   "source": []
  },
  {
   "cell_type": "code",
   "execution_count": null,
   "id": "d6b86e8c",
   "metadata": {},
   "outputs": [],
   "source": []
  },
  {
   "cell_type": "code",
   "execution_count": null,
   "id": "7341b9c2",
   "metadata": {},
   "outputs": [],
   "source": []
  },
  {
   "cell_type": "code",
   "execution_count": null,
   "id": "b86cadea",
   "metadata": {},
   "outputs": [],
   "source": []
  },
  {
   "cell_type": "code",
   "execution_count": null,
   "id": "ab774371",
   "metadata": {},
   "outputs": [],
   "source": []
  },
  {
   "cell_type": "code",
   "execution_count": null,
   "id": "1d62bbad",
   "metadata": {},
   "outputs": [],
   "source": []
  },
  {
   "cell_type": "code",
   "execution_count": null,
   "id": "5a14f453",
   "metadata": {},
   "outputs": [],
   "source": []
  },
  {
   "cell_type": "code",
   "execution_count": null,
   "id": "3e0c2512",
   "metadata": {},
   "outputs": [],
   "source": []
  }
 ],
 "metadata": {
  "kernelspec": {
   "display_name": "Python 3 (ipykernel)",
   "language": "python",
   "name": "python3"
  },
  "language_info": {
   "codemirror_mode": {
    "name": "ipython",
    "version": 3
   },
   "file_extension": ".py",
   "mimetype": "text/x-python",
   "name": "python",
   "nbconvert_exporter": "python",
   "pygments_lexer": "ipython3",
   "version": "3.9.12"
  },
  "toc": {
   "base_numbering": 1,
   "nav_menu": {},
   "number_sections": true,
   "sideBar": true,
   "skip_h1_title": false,
   "title_cell": "Table of Contents",
   "title_sidebar": "Contents",
   "toc_cell": false,
   "toc_position": {},
   "toc_section_display": true,
   "toc_window_display": false
  }
 },
 "nbformat": 4,
 "nbformat_minor": 5
}
